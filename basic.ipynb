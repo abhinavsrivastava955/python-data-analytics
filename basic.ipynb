{
 "cells": [
  {
   "cell_type": "code",
   "execution_count": 20,
   "metadata": {},
   "outputs": [],
   "source": [
    "a = 3902\n",
    "b = 3290.123\n",
    "c = \"this is sparta\"\n",
    "d = True\n",
    "e = None"
   ]
  },
  {
   "cell_type": "code",
   "execution_count": 2,
   "metadata": {},
   "outputs": [],
   "source": [
    "fruits = [\"apple\", \"banana\", \"cherry\" ]  # list\n",
    "coords = (23.32, 32.00, 3.022) # touple\n",
    "person = {\"name\": \"john\", \"age\": 36} # dictionary\n",
    "movies = {'avangers', 'ironman', 'hulk'} # set"
   ]
  },
  {
   "cell_type": "code",
   "execution_count": 3,
   "metadata": {},
   "outputs": [
    {
     "data": {
      "text/plain": [
       "True"
      ]
     },
     "execution_count": 3,
     "metadata": {},
     "output_type": "execute_result"
    }
   ],
   "source": [
    "'apple' in fruits   # for searching"
   ]
  },
  {
   "cell_type": "code",
   "execution_count": 4,
   "metadata": {},
   "outputs": [
    {
     "data": {
      "text/plain": [
       "True"
      ]
     },
     "execution_count": 4,
     "metadata": {},
     "output_type": "execute_result"
    }
   ],
   "source": [
    "'avocado' not in fruits # for searching operators"
   ]
  },
  {
   "cell_type": "markdown",
   "metadata": {},
   "source": []
  },
  {
   "cell_type": "code",
   "execution_count": 7,
   "metadata": {},
   "outputs": [],
   "source": [
    "name = input(\"enter your name\")\n",
    "iq = int(input(\"what is your iq(1-150)\"))"
   ]
  },
  {
   "cell_type": "code",
   "execution_count": 6,
   "metadata": {},
   "outputs": [],
   "source": [
    "pi = 22/7\n",
    "r = float(input(\"radius:\"))\n",
    "area = pi * r ** 2 "
   ]
  },
  {
   "cell_type": "code",
   "execution_count": 10,
   "metadata": {},
   "outputs": [
    {
     "name": "stdout",
     "output_type": "stream",
     "text": [
      "for a radius of 5.0 ,area=> 78.57142857142857\n"
     ]
    }
   ],
   "source": [
    "print('for a radius of',r,',area=>', area)"
   ]
  },
  {
   "cell_type": "code",
   "execution_count": 12,
   "metadata": {},
   "outputs": [
    {
     "name": "stdout",
     "output_type": "stream",
     "text": [
      "apple banana cherry\n",
      "apple,banana,cherry\n",
      "apple\n",
      "banana\n",
      "cherry\n"
     ]
    }
   ],
   "source": [
    "print('apple', 'banana', 'cherry')\n",
    "print('apple', 'banana', 'cherry', sep=',')\n",
    "print('apple', 'banana', 'cherry', sep='\\n')\n"
   ]
  },
  {
   "cell_type": "code",
   "execution_count": 19,
   "metadata": {},
   "outputs": [
    {
     "name": "stdout",
     "output_type": "stream",
     "text": [
      "for a radius of {r}, the area is {area:.1f}😎 ❤️\n"
     ]
    }
   ],
   "source": [
    "print(\"for a radius of {r}, the area is {area:.1f}😎 ❤️\")"
   ]
  },
  {
   "cell_type": "markdown",
   "metadata": {
    "tags": [
     "😎"
    ]
   },
   "source": []
  },
  {
   "cell_type": "code",
   "execution_count": 16,
   "metadata": {},
   "outputs": [
    {
     "name": "stdout",
     "output_type": "stream",
     "text": [
      "Integer 3902\n",
      "Integer 3290.123\n",
      "Integer this is sparta\n",
      "Integer True\n",
      "Integer None\n"
     ]
    }
   ],
   "source": [
    "print(f'Integer {a}')\n",
    "print(f'Integer {b}')\n",
    "print(f'Integer {c}')\n",
    "print(f'Integer {d}')\n",
    "print(f'Integer {e}')\n"
   ]
  },
  {
   "cell_type": "code",
   "execution_count": null,
   "metadata": {},
   "outputs": [],
   "source": []
  },
  {
   "cell_type": "code",
   "execution_count": 2,
   "metadata": {},
   "outputs": [
    {
     "ename": "Terminator",
     "evalue": "",
     "output_type": "error",
     "traceback": [
      "\u001b[1;31m---------------------------------------------------------------------------\u001b[0m",
      "\u001b[1;31mTerminator\u001b[0m                                Traceback (most recent call last)",
      "Cell \u001b[1;32mIn[2], line 3\u001b[0m\n\u001b[0;32m      1\u001b[0m \u001b[38;5;28;01mfrom\u001b[39;00m \u001b[38;5;21;01mturtle\u001b[39;00m \u001b[38;5;28;01mimport\u001b[39;00m \u001b[38;5;241m*\u001b[39m\n\u001b[1;32m----> 3\u001b[0m s \u001b[38;5;241m=\u001b[39m \u001b[43mgetscreen\u001b[49m\u001b[43m(\u001b[49m\u001b[43m)\u001b[49m\n\u001b[0;32m      4\u001b[0m t \u001b[38;5;241m=\u001b[39m Turtle()\n\u001b[0;32m      5\u001b[0m t\u001b[38;5;241m.\u001b[39mfd(\u001b[38;5;241m100\u001b[39m)\n",
      "File \u001b[1;32m<string>:5\u001b[0m, in \u001b[0;36mgetscreen\u001b[1;34m()\u001b[0m\n",
      "\u001b[1;31mTerminator\u001b[0m: "
     ]
    }
   ],
   "source": [
    "from turtle import *\n",
    "\n",
    "s = getscreen()\n",
    "t = Turtle()\n",
    "t.fd(100)\n",
    "t.lt(72)\n",
    "t.fd(100)\n",
    "t.lt(72)\n",
    "t.fd(100)\n",
    "t.lt(72)\n",
    "t.fd(100)\n",
    "t.lt(72)\n",
    "t.fd(100)\n",
    "t.lt(72)\n",
    "mainloop()\n"
   ]
  },
  {
   "cell_type": "code",
   "execution_count": null,
   "metadata": {},
   "outputs": [],
   "source": []
  },
  {
   "cell_type": "code",
   "execution_count": null,
   "metadata": {},
   "outputs": [
    {
     "ename": "Terminator",
     "evalue": "",
     "output_type": "error",
     "traceback": [
      "\u001b[1;31m---------------------------------------------------------------------------\u001b[0m",
      "\u001b[1;31mTerminator\u001b[0m                                Traceback (most recent call last)",
      "Cell \u001b[1;32mIn[1], line 6\u001b[0m\n\u001b[0;32m      4\u001b[0m begin_fill()\n\u001b[0;32m      5\u001b[0m \u001b[38;5;28;01mfor\u001b[39;00m i \u001b[38;5;129;01min\u001b[39;00m \u001b[38;5;28mrange\u001b[39m(\u001b[38;5;241m5\u001b[39m):\n\u001b[1;32m----> 6\u001b[0m     \u001b[43mfd\u001b[49m\u001b[43m(\u001b[49m\u001b[38;5;241;43m100\u001b[39;49m\u001b[43m)\u001b[49m\n\u001b[0;32m      7\u001b[0m     lt(\u001b[38;5;241m72\u001b[39m)\n\u001b[0;32m      8\u001b[0m     end_fill()\n",
      "File \u001b[1;32m<string>:5\u001b[0m, in \u001b[0;36mfd\u001b[1;34m(distance)\u001b[0m\n",
      "\u001b[1;31mTerminator\u001b[0m: "
     ]
    }
   ],
   "source": [
    "from turtle import *\n",
    "\n",
    "fillcolor('red')\n",
    "begin_fill()\n",
    "for i in range(5):\n",
    "    fd(100)\n",
    "    lt(72)\n",
    "    end_fill()\n",
    "    fillcolor('yellow')\n",
    "    begin_fill()\n",
    "    circle(50)\n",
    "    end_fill()\n",
    "    mainloop()"
   ]
  },
  {
   "cell_type": "code",
   "execution_count": 4,
   "metadata": {},
   "outputs": [],
   "source": [
    "from turtle import *\n",
    "\n",
    "speed('slow')\n",
    "pencolor('red')\n",
    "for i in range(100):\n",
    "    fd(i*3+5)\n",
    "    lt(90)\n",
    "\n",
    "    mainloop()"
   ]
  },
  {
   "cell_type": "code",
   "execution_count": null,
   "metadata": {},
   "outputs": [],
   "source": []
  }
 ],
 "metadata": {
  "kernelspec": {
   "display_name": "Python 3",
   "language": "python",
   "name": "python3"
  },
  "language_info": {
   "codemirror_mode": {
    "name": "ipython",
    "version": 3
   },
   "file_extension": ".py",
   "mimetype": "text/x-python",
   "name": "python",
   "nbconvert_exporter": "python",
   "pygments_lexer": "ipython3",
   "version": "3.11.5"
  }
 },
 "nbformat": 4,
 "nbformat_minor": 2
}
