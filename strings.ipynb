{
 "cells": [
  {
   "cell_type": "code",
   "execution_count": null,
   "metadata": {},
   "outputs": [],
   "source": [
    "my_string ='Hello'\n",
    "print(my_string)\n",
    "\n",
    "my_string =\"Hello\"\n",
    "print(my_string)\n",
    "\n",
    "my_string = '''Hello'''\n",
    "print(my_string)\n",
    "\n",
    "my_string = \"\"\"Hello, welcome to \n",
    "the world of python\"\"\"\n",
    "print(my_string)    "
   ]
  },
  {
   "cell_type": "code",
   "execution_count": null,
   "metadata": {},
   "outputs": [],
   "source": [
    "str= 'digipodium'\n",
    "print('str = ',str)\n",
    "\n",
    "#first character\n",
    "print('str[0] = ', str[0])\n",
    "\n",
    "#second character\n",
    "print('str[1] = ', str[1])  \n",
    "\n",
    "#last character\n",
    "print('str[-1 = ', str[-1])\n",
    "\n",
    "#second last character\n",
    "print('str[-2 = ', str[-2])"
   ]
  },
  {
   "cell_type": "code",
   "execution_count": null,
   "metadata": {},
   "outputs": [],
   "source": [
    "s = 'digipodium'\n",
    "ankit1 = s[4:7]\n",
    "print(ankit1)"
   ]
  },
  {
   "cell_type": "code",
   "execution_count": null,
   "metadata": {},
   "outputs": [],
   "source": [
    "name = 'Vijay Deenanath Chauhan'\n",
    "m_name = name[6:15]\n",
    "f_name = name[:5]\n",
    "l_name = name[-7:]\n",
    "print(m_name)\n",
    "print(f_name)\n",
    "print(l_name)"
   ]
  },
  {
   "cell_type": "code",
   "execution_count": null,
   "metadata": {},
   "outputs": [],
   "source": [
    "sentence = 'The quick brown fox jumps over the lazy dog'\n",
    "print(sentence[:10])\n",
    "print(sentence[-5:])"
   ]
  },
  {
   "cell_type": "code",
   "execution_count": null,
   "metadata": {},
   "outputs": [],
   "source": [
    "amt = \"$22222\"\n",
    "int(amt[1:])"
   ]
  },
  {
   "cell_type": "code",
   "execution_count": null,
   "metadata": {},
   "outputs": [],
   "source": [
    "uname = \"@pankajkumar😊😊😊\"\n",
    "print(uname[1:-3])"
   ]
  },
  {
   "cell_type": "code",
   "execution_count": null,
   "metadata": {},
   "outputs": [],
   "source": [
    "# methods \n",
    "\n",
    "a = \"Hello\"\n",
    "a.upper()"
   ]
  },
  {
   "cell_type": "code",
   "execution_count": null,
   "metadata": {},
   "outputs": [],
   "source": [
    "word = 'Data Science'\n",
    "word2 = word.upper()\n",
    "word3 = word.lower()\n",
    "word4 = word.capitalize()\n",
    "print(f'original: {word}')\n",
    "print(f'upper: {word2}')\n",
    "print(f'lower: {word3}')\n",
    "print(f'capitalize: {word4}')"
   ]
  },
  {
   "cell_type": "code",
   "execution_count": null,
   "metadata": {},
   "outputs": [],
   "source": [
    "sentence  = \"data science is the science of data\"\n",
    "print(sentence.find('science'))\n",
    "print(sentence.find('is'))\n",
    "print(sentence.find('science'))"
   ]
  },
  {
   "cell_type": "code",
   "execution_count": null,
   "metadata": {},
   "outputs": [],
   "source": [
    "sentence ='The quick brown fox jumps lazy dog'\n",
    "print(sentence.find('red'))\n"
   ]
  },
  {
   "cell_type": "code",
   "execution_count": null,
   "metadata": {},
   "outputs": [],
   "source": [
    "print(sentence.replace('o', 'i'))\n",
    "print(sentence.replace('brown', 'green'))\n",
    "print(sentence.replace('fox','elephant').replace('dog','goat'))\n",
    "      "
   ]
  },
  {
   "cell_type": "code",
   "execution_count": null,
   "metadata": {},
   "outputs": [],
   "source": [
    "story = 'once there was king named Arthur, who was a great king'\n",
    "print(story.count('Arthur'))\n",
    "print(story.count('a'))\n",
    "print(story.count('queen'))"
   ]
  },
  {
   "cell_type": "code",
   "execution_count": null,
   "metadata": {},
   "outputs": [],
   "source": [
    "print(story.split())\n",
    "print(story.split(','))"
   ]
  },
  {
   "cell_type": "code",
   "execution_count": null,
   "metadata": {},
   "outputs": [],
   "source": [
    "poem = '''johny johny, yes papa\n",
    "Eating sugar? no papa\n",
    "Telling Lies? no papa\n",
    "Open your mouth ha! ha! ha!'''\n",
    "print(poem.splitlines())\n",
    "print(poem.split('papa'))"
   ]
  },
  {
   "cell_type": "code",
   "execution_count": null,
   "metadata": {},
   "outputs": [],
   "source": [
    "pathList= ['c:','users','admin','desktop','python','python.text']\n",
    "print(\"/\".join(pathList))\n",
    "print(\",\".join(pathList))\n",
    "print(\"😂\".join(pathList))"
   ]
  },
  {
   "cell_type": "code",
   "execution_count": 23,
   "metadata": {},
   "outputs": [
    {
     "name": "stdout",
     "output_type": "stream",
     "text": [
      "Total items = 20\n"
     ]
    }
   ],
   "source": [
    "import os\n",
    "content = os.listdir('C:/Users/admin/Downloads')\n",
    "print(f'Total items = {len(content)}')"
   ]
  },
  {
   "cell_type": "code",
   "execution_count": null,
   "metadata": {},
   "outputs": [],
   "source": [
    "for item in content:\n",
    "    print(item)"
   ]
  },
  {
   "cell_type": "code",
   "execution_count": 34,
   "metadata": {},
   "outputs": [
    {
     "name": "stdout",
     "output_type": "stream",
     "text": [
      "MAD Q-A 1&2 Sessional  (1).pdf\n",
      "MAD Q-A 1&2 Sessional .pdf\n",
      "------------------------------\n",
      "Total files = 2\n"
     ]
    }
   ],
   "source": [
    "total = 0 \n",
    "for item in content:\n",
    "    if item.endswith('.pdf'):\n",
    "        print(item)\n",
    "        total += 1\n",
    "print('---'*10)\n",
    "print(f'Total files = {total}')"
   ]
  },
  {
   "cell_type": "code",
   "execution_count": 32,
   "metadata": {},
   "outputs": [
    {
     "name": "stdout",
     "output_type": "stream",
     "text": [
      "------------------------------\n",
      "total files = 0\n"
     ]
    }
   ],
   "source": [
    "total = 0 \n",
    "for item in content:\n",
    "    if item.startswith('docx'):\n",
    "        print(item)\n",
    "        total += 1\n",
    "print('---'*10)\n",
    "print(f'total files = {total}')"
   ]
  },
  {
   "cell_type": "code",
   "execution_count": null,
   "metadata": {},
   "outputs": [],
   "source": []
  }
 ],
 "metadata": {
  "kernelspec": {
   "display_name": "Python 3",
   "language": "python",
   "name": "python3"
  },
  "language_info": {
   "codemirror_mode": {
    "name": "ipython",
    "version": 3
   },
   "file_extension": ".py",
   "mimetype": "text/x-python",
   "name": "python",
   "nbconvert_exporter": "python",
   "pygments_lexer": "ipython3",
   "version": "3.11.5"
  }
 },
 "nbformat": 4,
 "nbformat_minor": 2
}
